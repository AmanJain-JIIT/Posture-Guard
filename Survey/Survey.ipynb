{
 "cells": [
  {
   "cell_type": "code",
   "execution_count": 1,
   "metadata": {},
   "outputs": [],
   "source": [
    "import pandas as pd\n",
    "import numpy as np\n",
    "import matplotlib.pyplot as plt\n",
    "import os\n",
    "import sys"
   ]
  },
  {
   "cell_type": "code",
   "execution_count": 110,
   "metadata": {},
   "outputs": [],
   "source": [
    "df = pd.read_csv(\"Survey1.csv\")"
   ]
  },
  {
   "cell_type": "code",
   "execution_count": 111,
   "metadata": {},
   "outputs": [
    {
     "data": {
      "text/html": [
       "<div>\n",
       "<style scoped>\n",
       "    .dataframe tbody tr th:only-of-type {\n",
       "        vertical-align: middle;\n",
       "    }\n",
       "\n",
       "    .dataframe tbody tr th {\n",
       "        vertical-align: top;\n",
       "    }\n",
       "\n",
       "    .dataframe thead th {\n",
       "        text-align: right;\n",
       "    }\n",
       "</style>\n",
       "<table border=\"1\" class=\"dataframe\">\n",
       "  <thead>\n",
       "    <tr style=\"text-align: right;\">\n",
       "      <th></th>\n",
       "      <th>Timestamp</th>\n",
       "      <th>Name</th>\n",
       "      <th>Gender</th>\n",
       "      <th>Age</th>\n",
       "      <th>How much time do you spend working on a computer daily?</th>\n",
       "      <th>How often do you keep a check on your posture while working on a computer?</th>\n",
       "      <th>How crucial do you consider maintaining proper posture to be, on a scale of 1 to 10?</th>\n",
       "    </tr>\n",
       "  </thead>\n",
       "  <tbody>\n",
       "    <tr>\n",
       "      <th>0</th>\n",
       "      <td>4/18/2024 10:47:49</td>\n",
       "      <td>Aman Jain</td>\n",
       "      <td>Male</td>\n",
       "      <td>17-24 Yrs</td>\n",
       "      <td>3-6 Hrs</td>\n",
       "      <td>Once in a while, when I remember 🤔 Occasionally</td>\n",
       "      <td>8</td>\n",
       "    </tr>\n",
       "    <tr>\n",
       "      <th>1</th>\n",
       "      <td>4/18/2024 11:20:44</td>\n",
       "      <td>Daksh Rohilla</td>\n",
       "      <td>Male</td>\n",
       "      <td>17-24 Yrs</td>\n",
       "      <td>3-6 Hrs</td>\n",
       "      <td>Rarely, but I should! 😅</td>\n",
       "      <td>10</td>\n",
       "    </tr>\n",
       "    <tr>\n",
       "      <th>2</th>\n",
       "      <td>4/18/2024 11:21:22</td>\n",
       "      <td>Yash Malik</td>\n",
       "      <td>Male</td>\n",
       "      <td>17-24 Yrs</td>\n",
       "      <td>6-9 Hrs</td>\n",
       "      <td>Pretty often, gotta stay comfy! 💼 Frequently</td>\n",
       "      <td>9</td>\n",
       "    </tr>\n",
       "    <tr>\n",
       "      <th>3</th>\n",
       "      <td>4/18/2024 11:21:41</td>\n",
       "      <td>Aryan Raina</td>\n",
       "      <td>Male</td>\n",
       "      <td>17-24 Yrs</td>\n",
       "      <td>6-9 Hrs</td>\n",
       "      <td>Oops, never really thought about it! 🙈 Never</td>\n",
       "      <td>10</td>\n",
       "    </tr>\n",
       "    <tr>\n",
       "      <th>4</th>\n",
       "      <td>4/18/2024 11:22:12</td>\n",
       "      <td>Surbhi Jain</td>\n",
       "      <td>Female</td>\n",
       "      <td>25-35 Yrs</td>\n",
       "      <td>6-9 Hrs</td>\n",
       "      <td>Rarely, but I should! 😅</td>\n",
       "      <td>9</td>\n",
       "    </tr>\n",
       "  </tbody>\n",
       "</table>\n",
       "</div>"
      ],
      "text/plain": [
       "            Timestamp           Name  Gender        Age  \\\n",
       "0  4/18/2024 10:47:49      Aman Jain    Male  17-24 Yrs   \n",
       "1  4/18/2024 11:20:44  Daksh Rohilla    Male  17-24 Yrs   \n",
       "2  4/18/2024 11:21:22     Yash Malik    Male  17-24 Yrs   \n",
       "3  4/18/2024 11:21:41   Aryan Raina     Male  17-24 Yrs   \n",
       "4  4/18/2024 11:22:12    Surbhi Jain  Female  25-35 Yrs   \n",
       "\n",
       "  How much time do you spend working on a computer daily?  \\\n",
       "0                                            3-6 Hrs        \n",
       "1                                            3-6 Hrs        \n",
       "2                                            6-9 Hrs        \n",
       "3                                            6-9 Hrs        \n",
       "4                                            6-9 Hrs        \n",
       "\n",
       "  How often do you keep a check on your posture while working on a computer?  \\\n",
       "0    Once in a while, when I remember 🤔 Occasionally                           \n",
       "1                            Rarely, but I should! 😅                           \n",
       "2       Pretty often, gotta stay comfy! 💼 Frequently                           \n",
       "3       Oops, never really thought about it! 🙈 Never                           \n",
       "4                            Rarely, but I should! 😅                           \n",
       "\n",
       "   How crucial do you consider maintaining proper posture to be, on a scale of 1 to 10?  \n",
       "0                                                  8                                     \n",
       "1                                                 10                                     \n",
       "2                                                  9                                     \n",
       "3                                                 10                                     \n",
       "4                                                  9                                     "
      ]
     },
     "execution_count": 111,
     "metadata": {},
     "output_type": "execute_result"
    }
   ],
   "source": [
    "df.head()"
   ]
  },
  {
   "cell_type": "code",
   "execution_count": 112,
   "metadata": {},
   "outputs": [],
   "source": [
    "df.drop(columns=[\"Timestamp\", \"Name\", ], inplace=True)"
   ]
  },
  {
   "cell_type": "code",
   "execution_count": 113,
   "metadata": {},
   "outputs": [
    {
     "data": {
      "text/html": [
       "<div>\n",
       "<style scoped>\n",
       "    .dataframe tbody tr th:only-of-type {\n",
       "        vertical-align: middle;\n",
       "    }\n",
       "\n",
       "    .dataframe tbody tr th {\n",
       "        vertical-align: top;\n",
       "    }\n",
       "\n",
       "    .dataframe thead th {\n",
       "        text-align: right;\n",
       "    }\n",
       "</style>\n",
       "<table border=\"1\" class=\"dataframe\">\n",
       "  <thead>\n",
       "    <tr style=\"text-align: right;\">\n",
       "      <th></th>\n",
       "      <th>Gender</th>\n",
       "      <th>Age</th>\n",
       "      <th>How much time do you spend working on a computer daily?</th>\n",
       "      <th>How often do you keep a check on your posture while working on a computer?</th>\n",
       "      <th>How crucial do you consider maintaining proper posture to be, on a scale of 1 to 10?</th>\n",
       "    </tr>\n",
       "  </thead>\n",
       "  <tbody>\n",
       "    <tr>\n",
       "      <th>0</th>\n",
       "      <td>Male</td>\n",
       "      <td>17-24 Yrs</td>\n",
       "      <td>3-6 Hrs</td>\n",
       "      <td>Once in a while, when I remember 🤔 Occasionally</td>\n",
       "      <td>8</td>\n",
       "    </tr>\n",
       "    <tr>\n",
       "      <th>1</th>\n",
       "      <td>Male</td>\n",
       "      <td>17-24 Yrs</td>\n",
       "      <td>3-6 Hrs</td>\n",
       "      <td>Rarely, but I should! 😅</td>\n",
       "      <td>10</td>\n",
       "    </tr>\n",
       "    <tr>\n",
       "      <th>2</th>\n",
       "      <td>Male</td>\n",
       "      <td>17-24 Yrs</td>\n",
       "      <td>6-9 Hrs</td>\n",
       "      <td>Pretty often, gotta stay comfy! 💼 Frequently</td>\n",
       "      <td>9</td>\n",
       "    </tr>\n",
       "    <tr>\n",
       "      <th>3</th>\n",
       "      <td>Male</td>\n",
       "      <td>17-24 Yrs</td>\n",
       "      <td>6-9 Hrs</td>\n",
       "      <td>Oops, never really thought about it! 🙈 Never</td>\n",
       "      <td>10</td>\n",
       "    </tr>\n",
       "    <tr>\n",
       "      <th>4</th>\n",
       "      <td>Female</td>\n",
       "      <td>25-35 Yrs</td>\n",
       "      <td>6-9 Hrs</td>\n",
       "      <td>Rarely, but I should! 😅</td>\n",
       "      <td>9</td>\n",
       "    </tr>\n",
       "  </tbody>\n",
       "</table>\n",
       "</div>"
      ],
      "text/plain": [
       "   Gender        Age How much time do you spend working on a computer daily?  \\\n",
       "0    Male  17-24 Yrs                                            3-6 Hrs        \n",
       "1    Male  17-24 Yrs                                            3-6 Hrs        \n",
       "2    Male  17-24 Yrs                                            6-9 Hrs        \n",
       "3    Male  17-24 Yrs                                            6-9 Hrs        \n",
       "4  Female  25-35 Yrs                                            6-9 Hrs        \n",
       "\n",
       "  How often do you keep a check on your posture while working on a computer?  \\\n",
       "0    Once in a while, when I remember 🤔 Occasionally                           \n",
       "1                            Rarely, but I should! 😅                           \n",
       "2       Pretty often, gotta stay comfy! 💼 Frequently                           \n",
       "3       Oops, never really thought about it! 🙈 Never                           \n",
       "4                            Rarely, but I should! 😅                           \n",
       "\n",
       "   How crucial do you consider maintaining proper posture to be, on a scale of 1 to 10?  \n",
       "0                                                  8                                     \n",
       "1                                                 10                                     \n",
       "2                                                  9                                     \n",
       "3                                                 10                                     \n",
       "4                                                  9                                     "
      ]
     },
     "execution_count": 113,
     "metadata": {},
     "output_type": "execute_result"
    }
   ],
   "source": [
    "df.head()"
   ]
  },
  {
   "cell_type": "code",
   "execution_count": 114,
   "metadata": {},
   "outputs": [],
   "source": [
    "df.rename(columns={\"How much time do you spend working on a computer daily?\" : \"TimeSpent\", \"How often do you keep a check on your posture while working on a computer?\" : \"CheckPosture\", \"How crucial do you consider maintaining proper posture to be, on a scale of 1 to 10?\" : \"NeedOfPG\"}, inplace=True)"
   ]
  },
  {
   "cell_type": "code",
   "execution_count": 115,
   "metadata": {},
   "outputs": [
    {
     "data": {
      "text/html": [
       "<div>\n",
       "<style scoped>\n",
       "    .dataframe tbody tr th:only-of-type {\n",
       "        vertical-align: middle;\n",
       "    }\n",
       "\n",
       "    .dataframe tbody tr th {\n",
       "        vertical-align: top;\n",
       "    }\n",
       "\n",
       "    .dataframe thead th {\n",
       "        text-align: right;\n",
       "    }\n",
       "</style>\n",
       "<table border=\"1\" class=\"dataframe\">\n",
       "  <thead>\n",
       "    <tr style=\"text-align: right;\">\n",
       "      <th></th>\n",
       "      <th>Gender</th>\n",
       "      <th>Age</th>\n",
       "      <th>TimeSpent</th>\n",
       "      <th>CheckPosture</th>\n",
       "      <th>NeedOfPG</th>\n",
       "    </tr>\n",
       "  </thead>\n",
       "  <tbody>\n",
       "    <tr>\n",
       "      <th>0</th>\n",
       "      <td>Male</td>\n",
       "      <td>17-24 Yrs</td>\n",
       "      <td>3-6 Hrs</td>\n",
       "      <td>Once in a while, when I remember 🤔 Occasionally</td>\n",
       "      <td>8</td>\n",
       "    </tr>\n",
       "    <tr>\n",
       "      <th>1</th>\n",
       "      <td>Male</td>\n",
       "      <td>17-24 Yrs</td>\n",
       "      <td>3-6 Hrs</td>\n",
       "      <td>Rarely, but I should! 😅</td>\n",
       "      <td>10</td>\n",
       "    </tr>\n",
       "    <tr>\n",
       "      <th>2</th>\n",
       "      <td>Male</td>\n",
       "      <td>17-24 Yrs</td>\n",
       "      <td>6-9 Hrs</td>\n",
       "      <td>Pretty often, gotta stay comfy! 💼 Frequently</td>\n",
       "      <td>9</td>\n",
       "    </tr>\n",
       "    <tr>\n",
       "      <th>3</th>\n",
       "      <td>Male</td>\n",
       "      <td>17-24 Yrs</td>\n",
       "      <td>6-9 Hrs</td>\n",
       "      <td>Oops, never really thought about it! 🙈 Never</td>\n",
       "      <td>10</td>\n",
       "    </tr>\n",
       "    <tr>\n",
       "      <th>4</th>\n",
       "      <td>Female</td>\n",
       "      <td>25-35 Yrs</td>\n",
       "      <td>6-9 Hrs</td>\n",
       "      <td>Rarely, but I should! 😅</td>\n",
       "      <td>9</td>\n",
       "    </tr>\n",
       "  </tbody>\n",
       "</table>\n",
       "</div>"
      ],
      "text/plain": [
       "   Gender        Age TimeSpent  \\\n",
       "0    Male  17-24 Yrs   3-6 Hrs   \n",
       "1    Male  17-24 Yrs   3-6 Hrs   \n",
       "2    Male  17-24 Yrs   6-9 Hrs   \n",
       "3    Male  17-24 Yrs   6-9 Hrs   \n",
       "4  Female  25-35 Yrs   6-9 Hrs   \n",
       "\n",
       "                                      CheckPosture  NeedOfPG  \n",
       "0  Once in a while, when I remember 🤔 Occasionally         8  \n",
       "1                          Rarely, but I should! 😅        10  \n",
       "2     Pretty often, gotta stay comfy! 💼 Frequently         9  \n",
       "3     Oops, never really thought about it! 🙈 Never        10  \n",
       "4                          Rarely, but I should! 😅         9  "
      ]
     },
     "execution_count": 115,
     "metadata": {},
     "output_type": "execute_result"
    }
   ],
   "source": [
    "df.head()"
   ]
  },
  {
   "cell_type": "code",
   "execution_count": 116,
   "metadata": {},
   "outputs": [
    {
     "data": {
      "text/plain": [
       "array(['Once in a while, when I remember 🤔 Occasionally',\n",
       "       'Rarely, but I should! 😅',\n",
       "       'Pretty often, gotta stay comfy! 💼 Frequently',\n",
       "       'Oops, never really thought about it! 🙈 Never',\n",
       "       'Like a posture pro! 🌟 Always'], dtype=object)"
      ]
     },
     "execution_count": 116,
     "metadata": {},
     "output_type": "execute_result"
    }
   ],
   "source": [
    "df[\"CheckPosture\"].unique()"
   ]
  },
  {
   "cell_type": "code",
   "execution_count": 117,
   "metadata": {},
   "outputs": [],
   "source": [
    "PostureCheck = {'Once in a while, when I remember 🤔 Occasionally' : 'Occasionally',\n",
    "       'Rarely, but I should! 😅' : 'Rarely',\n",
    "       'Pretty often, gotta stay comfy! 💼 Frequently' : 'Frequently',\n",
    "       'Oops, never really thought about it! 🙈 Never' : 'Never',\n",
    "       'Like a posture pro! 🌟 Always' : 'Always'}"
   ]
  },
  {
   "cell_type": "code",
   "execution_count": 118,
   "metadata": {},
   "outputs": [
    {
     "name": "stderr",
     "output_type": "stream",
     "text": [
      "C:\\Users\\amanj\\AppData\\Local\\Temp\\ipykernel_14828\\4249797256.py:2: SettingWithCopyWarning: \n",
      "A value is trying to be set on a copy of a slice from a DataFrame\n",
      "\n",
      "See the caveats in the documentation: https://pandas.pydata.org/pandas-docs/stable/user_guide/indexing.html#returning-a-view-versus-a-copy\n",
      "  df[\"CheckPosture\"][index] = PostureCheck[df[\"CheckPosture\"][index]]\n",
      "C:\\Users\\amanj\\AppData\\Local\\Temp\\ipykernel_14828\\4249797256.py:4: SettingWithCopyWarning: \n",
      "A value is trying to be set on a copy of a slice from a DataFrame\n",
      "\n",
      "See the caveats in the documentation: https://pandas.pydata.org/pandas-docs/stable/user_guide/indexing.html#returning-a-view-versus-a-copy\n",
      "  df[\"NeedOfPG\"][index] = \"Needed\"\n",
      "C:\\Users\\amanj\\AppData\\Local\\Temp\\ipykernel_14828\\4249797256.py:4: FutureWarning: Setting an item of incompatible dtype is deprecated and will raise in a future error of pandas. Value 'Needed' has dtype incompatible with int64, please explicitly cast to a compatible dtype first.\n",
      "  df[\"NeedOfPG\"][index] = \"Needed\"\n"
     ]
    }
   ],
   "source": [
    "for index in df.index:\n",
    "    df[\"CheckPosture\"][index] = PostureCheck[df[\"CheckPosture\"][index]]\n",
    "    if df[\"NeedOfPG\"][index] >= 5:\n",
    "        df[\"NeedOfPG\"][index] = \"Needed\"\n",
    "    else:\n",
    "        df[\"NeedOfPG\"][index] = \"Not Needed\""
   ]
  },
  {
   "cell_type": "code",
   "execution_count": 119,
   "metadata": {},
   "outputs": [
    {
     "data": {
      "text/html": [
       "<div>\n",
       "<style scoped>\n",
       "    .dataframe tbody tr th:only-of-type {\n",
       "        vertical-align: middle;\n",
       "    }\n",
       "\n",
       "    .dataframe tbody tr th {\n",
       "        vertical-align: top;\n",
       "    }\n",
       "\n",
       "    .dataframe thead th {\n",
       "        text-align: right;\n",
       "    }\n",
       "</style>\n",
       "<table border=\"1\" class=\"dataframe\">\n",
       "  <thead>\n",
       "    <tr style=\"text-align: right;\">\n",
       "      <th></th>\n",
       "      <th>Gender</th>\n",
       "      <th>Age</th>\n",
       "      <th>TimeSpent</th>\n",
       "      <th>CheckPosture</th>\n",
       "      <th>NeedOfPG</th>\n",
       "    </tr>\n",
       "  </thead>\n",
       "  <tbody>\n",
       "    <tr>\n",
       "      <th>0</th>\n",
       "      <td>Male</td>\n",
       "      <td>17-24 Yrs</td>\n",
       "      <td>3-6 Hrs</td>\n",
       "      <td>Occasionally</td>\n",
       "      <td>Needed</td>\n",
       "    </tr>\n",
       "    <tr>\n",
       "      <th>1</th>\n",
       "      <td>Male</td>\n",
       "      <td>17-24 Yrs</td>\n",
       "      <td>3-6 Hrs</td>\n",
       "      <td>Rarely</td>\n",
       "      <td>Needed</td>\n",
       "    </tr>\n",
       "    <tr>\n",
       "      <th>2</th>\n",
       "      <td>Male</td>\n",
       "      <td>17-24 Yrs</td>\n",
       "      <td>6-9 Hrs</td>\n",
       "      <td>Frequently</td>\n",
       "      <td>Needed</td>\n",
       "    </tr>\n",
       "    <tr>\n",
       "      <th>3</th>\n",
       "      <td>Male</td>\n",
       "      <td>17-24 Yrs</td>\n",
       "      <td>6-9 Hrs</td>\n",
       "      <td>Never</td>\n",
       "      <td>Needed</td>\n",
       "    </tr>\n",
       "    <tr>\n",
       "      <th>4</th>\n",
       "      <td>Female</td>\n",
       "      <td>25-35 Yrs</td>\n",
       "      <td>6-9 Hrs</td>\n",
       "      <td>Rarely</td>\n",
       "      <td>Needed</td>\n",
       "    </tr>\n",
       "  </tbody>\n",
       "</table>\n",
       "</div>"
      ],
      "text/plain": [
       "   Gender        Age TimeSpent  CheckPosture NeedOfPG\n",
       "0    Male  17-24 Yrs   3-6 Hrs  Occasionally   Needed\n",
       "1    Male  17-24 Yrs   3-6 Hrs        Rarely   Needed\n",
       "2    Male  17-24 Yrs   6-9 Hrs    Frequently   Needed\n",
       "3    Male  17-24 Yrs   6-9 Hrs         Never   Needed\n",
       "4  Female  25-35 Yrs   6-9 Hrs        Rarely   Needed"
      ]
     },
     "execution_count": 119,
     "metadata": {},
     "output_type": "execute_result"
    }
   ],
   "source": [
    "df.head()"
   ]
  },
  {
   "cell_type": "code",
   "execution_count": 120,
   "metadata": {},
   "outputs": [],
   "source": [
    "TimeSpent = df[\"TimeSpent\"].unique()\n",
    "CheckPosture = df[\"CheckPosture\"].unique()\n",
    "NeedOfPG = df[\"NeedOfPG\"].unique()"
   ]
  },
  {
   "cell_type": "code",
   "execution_count": 121,
   "metadata": {},
   "outputs": [
    {
     "data": {
      "text/plain": [
       "['1-3 Hrs', '10+ Hrs', '3-6 Hrs', '6-9 Hrs']"
      ]
     },
     "execution_count": 121,
     "metadata": {},
     "output_type": "execute_result"
    }
   ],
   "source": [
    "TimeSpent = sorted(TimeSpent)\n",
    "TimeSpent"
   ]
  },
  {
   "cell_type": "code",
   "execution_count": 122,
   "metadata": {},
   "outputs": [],
   "source": [
    "CountTS = []\n",
    "for a in TimeSpent:\n",
    "    count = df[df[\"TimeSpent\"]==a].shape[0]\n",
    "    CountTS.append(count)\n",
    "CountTS = [(count / df.shape[0]) * 100 for count in CountTS]"
   ]
  },
  {
   "cell_type": "code",
   "execution_count": 123,
   "metadata": {},
   "outputs": [],
   "source": [
    "CountCP = []\n",
    "for a in CheckPosture:\n",
    "    count = df[df[\"CheckPosture\"]==a].shape[0]\n",
    "    CountCP.append(count)\n",
    "CountCP = [(count / df.shape[0]) * 100 for count in CountCP]"
   ]
  },
  {
   "cell_type": "code",
   "execution_count": 124,
   "metadata": {},
   "outputs": [],
   "source": [
    "CountNeed = []\n",
    "for a in NeedOfPG:\n",
    "    count = df[df[\"NeedOfPG\"]==a].shape[0]\n",
    "    CountNeed.append(count)\n",
    "CountNeed = [(count / df.shape[0]) * 100 for count in CountNeed]"
   ]
  },
  {
   "cell_type": "code",
   "execution_count": 125,
   "metadata": {},
   "outputs": [
    {
     "data": {
      "text/plain": [
       "Text(0.5, 1.0, 'HoursPerDay v/s PercentageOfUsers')"
      ]
     },
     "execution_count": 125,
     "metadata": {},
     "output_type": "execute_result"
    },
    {
     "data": {
      "image/png": "[encoded data removed]",
      "text/plain": [
       "<Figure size 640x480 with 1 Axes>"
      ]
     },
     "metadata": {},
     "output_type": "display_data"
    }
   ],
   "source": [
    "plt.bar(TimeSpent, CountTS)\n",
    "plt.xlabel(\"HoursPerDay\")\n",
    "plt.ylabel(\"PercentageOfUsers\")\n",
    "plt.title(\"HoursPerDay v/s PercentageOfUsers\")"
   ]
  },
  {
   "cell_type": "code",
   "execution_count": 126,
   "metadata": {},
   "outputs": [
    {
     "data": {
      "text/plain": [
       "Text(0.5, 1.0, 'UserChecksPosture v/s PercentageOfUsers')"
      ]
     },
     "execution_count": 126,
     "metadata": {},
     "output_type": "execute_result"
    },
    {
     "data": {
      "image/png": "[encoded data removed]",
      "text/plain": [
       "<Figure size 640x480 with 1 Axes>"
      ]
     },
     "metadata": {},
     "output_type": "display_data"
    }
   ],
   "source": [
    "plt.bar(CheckPosture, CountCP)\n",
    "plt.xlabel(\"UserChecksPosture\")\n",
    "plt.ylabel(\"PercentageOfUsers\")\n",
    "plt.title(\"UserChecksPosture v/s PercentageOfUsers\")"
   ]
  },
  {
   "cell_type": "code",
   "execution_count": 127,
   "metadata": {},
   "outputs": [
    {
     "data": {
      "text/plain": [
       "Text(0.5, 1.0, 'NeedPostureGuard v/s PercentageOfUsers')"
      ]
     },
     "execution_count": 127,
     "metadata": {},
     "output_type": "execute_result"
    },
    {
     "data": {
      "image/png": "[encoded data removed]",
      "text/plain": [
       "<Figure size 640x480 with 1 Axes>"
      ]
     },
     "metadata": {},
     "output_type": "display_data"
    }
   ],
   "source": [
    "plt.bar(NeedOfPG, CountNeed)\n",
    "plt.xlabel(\"NeedPostureGuard\")\n",
    "plt.ylabel(\"PercentageOfUsers\")\n",
    "plt.title(\"NeedPostureGuard v/s PercentageOfUsers\")"
   ]
  },
  {
   "cell_type": "code",
   "execution_count": null,
   "metadata": {},
   "outputs": [],
   "source": []
  }
 ],
 "metadata": {
  "kernelspec": {
   "display_name": "tf",
   "language": "python",
   "name": "python3"
  },
  "language_info": {
   "codemirror_mode": {
    "name": "ipython",
    "version": 3
   },
   "file_extension": ".py",
   "mimetype": "text/x-python",
   "name": "python",
   "nbconvert_exporter": "python",
   "pygments_lexer": "ipython3",
   "version": "3.9.18"
  }
 },
 "nbformat": 4,
 "nbformat_minor": 2
}
